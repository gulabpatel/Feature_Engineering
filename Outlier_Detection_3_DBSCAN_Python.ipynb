{
  "nbformat": 4,
  "nbformat_minor": 0,
  "metadata": {
    "colab": {
      "name": "DBSCAN_Python.ipynb",
      "provenance": [],
      "collapsed_sections": [],
      "authorship_tag": "ABX9TyNZWeonKAB7ftdZT++G2ByP"
    },
    "kernelspec": {
      "name": "python3",
      "display_name": "Python 3"
    }
  },
  "cells": [
    {
      "cell_type": "markdown",
      "metadata": {
        "id": "bgKd8PUCxZsm"
      },
      "source": [
        "# DBSCAN Clustering\n"
      ]
    },
    {
      "cell_type": "markdown",
      "metadata": {
        "id": "9RpOYUPyxvqU"
      },
      "source": [
        "DBSCAN Advantage - \n",
        "* great at sepearating clusters of high density versus clusters of low density\n",
        "* great with handling outliers within the dataset <br>\n",
        "\n",
        "Disadvantage - \n",
        "* doestn't work well with clusters of varying densities whereas it's great at seperating high density clusters from low density clusters. struggle with clusters of similar densitydata\n",
        "* struggles with high dimensionality \n",
        "\n",
        "\n",
        "--Supporting youtube vides https://www.youtube.com/watch?v=C3r7tGRe2eI"
      ]
    },
    {
      "cell_type": "markdown",
      "metadata": {
        "id": "64xeNxLQ6lu4"
      },
      "source": [
        "# Importing the libraries"
      ]
    },
    {
      "cell_type": "code",
      "metadata": {
        "id": "bwSYWy0UwtTk"
      },
      "source": [
        "import numpy as np\n",
        "import pandas as pd\n",
        "import matplotlib.pyplot as plt\n",
        "from collections import Counter\n",
        "from sklearn.cluster import DBSCAN\n",
        "from sklearn import metrics\n",
        "from pylab import rcParams\n",
        "rcParams['figure.figsize'] = 14,6"
      ],
      "execution_count": 1,
      "outputs": []
    },
    {
      "cell_type": "code",
      "metadata": {
        "id": "ieQJacbHxcBu",
        "outputId": "5bbb98fa-5b5f-49e2-d2cc-962aacef81cf",
        "colab": {
          "base_uri": "https://localhost:8080/",
          "height": 359
        }
      },
      "source": [
        "# Importing the dataset\n",
        "df = pd.read_csv('/content/Mall_Customers.csv')\n",
        "df.sample(10)"
      ],
      "execution_count": 2,
      "outputs": [
        {
          "output_type": "execute_result",
          "data": {
            "text/html": [
              "<div>\n",
              "<style scoped>\n",
              "    .dataframe tbody tr th:only-of-type {\n",
              "        vertical-align: middle;\n",
              "    }\n",
              "\n",
              "    .dataframe tbody tr th {\n",
              "        vertical-align: top;\n",
              "    }\n",
              "\n",
              "    .dataframe thead th {\n",
              "        text-align: right;\n",
              "    }\n",
              "</style>\n",
              "<table border=\"1\" class=\"dataframe\">\n",
              "  <thead>\n",
              "    <tr style=\"text-align: right;\">\n",
              "      <th></th>\n",
              "      <th>CustomerID</th>\n",
              "      <th>Genre</th>\n",
              "      <th>Age</th>\n",
              "      <th>Annual Income (k$)</th>\n",
              "      <th>Spending Score (1-100)</th>\n",
              "    </tr>\n",
              "  </thead>\n",
              "  <tbody>\n",
              "    <tr>\n",
              "      <th>7</th>\n",
              "      <td>8</td>\n",
              "      <td>Female</td>\n",
              "      <td>23</td>\n",
              "      <td>18</td>\n",
              "      <td>94</td>\n",
              "    </tr>\n",
              "    <tr>\n",
              "      <th>28</th>\n",
              "      <td>29</td>\n",
              "      <td>Female</td>\n",
              "      <td>40</td>\n",
              "      <td>29</td>\n",
              "      <td>31</td>\n",
              "    </tr>\n",
              "    <tr>\n",
              "      <th>153</th>\n",
              "      <td>154</td>\n",
              "      <td>Female</td>\n",
              "      <td>38</td>\n",
              "      <td>78</td>\n",
              "      <td>76</td>\n",
              "    </tr>\n",
              "    <tr>\n",
              "      <th>79</th>\n",
              "      <td>80</td>\n",
              "      <td>Female</td>\n",
              "      <td>49</td>\n",
              "      <td>54</td>\n",
              "      <td>42</td>\n",
              "    </tr>\n",
              "    <tr>\n",
              "      <th>63</th>\n",
              "      <td>64</td>\n",
              "      <td>Female</td>\n",
              "      <td>54</td>\n",
              "      <td>47</td>\n",
              "      <td>59</td>\n",
              "    </tr>\n",
              "    <tr>\n",
              "      <th>154</th>\n",
              "      <td>155</td>\n",
              "      <td>Female</td>\n",
              "      <td>47</td>\n",
              "      <td>78</td>\n",
              "      <td>16</td>\n",
              "    </tr>\n",
              "    <tr>\n",
              "      <th>186</th>\n",
              "      <td>187</td>\n",
              "      <td>Female</td>\n",
              "      <td>54</td>\n",
              "      <td>101</td>\n",
              "      <td>24</td>\n",
              "    </tr>\n",
              "    <tr>\n",
              "      <th>131</th>\n",
              "      <td>132</td>\n",
              "      <td>Male</td>\n",
              "      <td>39</td>\n",
              "      <td>71</td>\n",
              "      <td>75</td>\n",
              "    </tr>\n",
              "    <tr>\n",
              "      <th>103</th>\n",
              "      <td>104</td>\n",
              "      <td>Male</td>\n",
              "      <td>26</td>\n",
              "      <td>62</td>\n",
              "      <td>55</td>\n",
              "    </tr>\n",
              "    <tr>\n",
              "      <th>173</th>\n",
              "      <td>174</td>\n",
              "      <td>Male</td>\n",
              "      <td>36</td>\n",
              "      <td>87</td>\n",
              "      <td>92</td>\n",
              "    </tr>\n",
              "  </tbody>\n",
              "</table>\n",
              "</div>"
            ],
            "text/plain": [
              "     CustomerID   Genre  Age  Annual Income (k$)  Spending Score (1-100)\n",
              "7             8  Female   23                  18                      94\n",
              "28           29  Female   40                  29                      31\n",
              "153         154  Female   38                  78                      76\n",
              "79           80  Female   49                  54                      42\n",
              "63           64  Female   54                  47                      59\n",
              "154         155  Female   47                  78                      16\n",
              "186         187  Female   54                 101                      24\n",
              "131         132    Male   39                  71                      75\n",
              "103         104    Male   26                  62                      55\n",
              "173         174    Male   36                  87                      92"
            ]
          },
          "metadata": {
            "tags": []
          },
          "execution_count": 2
        }
      ]
    },
    {
      "cell_type": "markdown",
      "metadata": {
        "id": "VP_6k0NnzWpL"
      },
      "source": [
        "Let's pick up Annual Income and Spending Score features for clustering"
      ]
    },
    {
      "cell_type": "code",
      "metadata": {
        "id": "9NVoCZu352d_",
        "outputId": "4fe8a02c-3669-42f3-883e-22da0261b96c",
        "colab": {
          "base_uri": "https://localhost:8080/"
        }
      },
      "source": [
        "df.info()"
      ],
      "execution_count": 3,
      "outputs": [
        {
          "output_type": "stream",
          "text": [
            "<class 'pandas.core.frame.DataFrame'>\n",
            "RangeIndex: 200 entries, 0 to 199\n",
            "Data columns (total 5 columns):\n",
            " #   Column                  Non-Null Count  Dtype \n",
            "---  ------                  --------------  ----- \n",
            " 0   CustomerID              200 non-null    int64 \n",
            " 1   Genre                   200 non-null    object\n",
            " 2   Age                     200 non-null    int64 \n",
            " 3   Annual Income (k$)      200 non-null    int64 \n",
            " 4   Spending Score (1-100)  200 non-null    int64 \n",
            "dtypes: int64(4), object(1)\n",
            "memory usage: 7.9+ KB\n"
          ],
          "name": "stdout"
        }
      ]
    },
    {
      "cell_type": "code",
      "metadata": {
        "id": "sMtuQClgAj9y",
        "outputId": "c99da9fe-b4ac-4258-e0ea-2f172aa8a8c0",
        "colab": {
          "base_uri": "https://localhost:8080/",
          "height": 317
        }
      },
      "source": [
        "\n",
        "plt.plot(df['Annual Income (k$)'], df['Spending Score (1-100)'],\n",
        "           marker = '.', linewidth=0, color='#128128')\n",
        "plt.grid(which='major', color='#cccccc', alpha = 0.45)\n",
        "plt.title('Annual Income and Spending Score', family='Arial', fontsize=20)\n",
        "plt.xlabel('Annual Income')\n",
        "plt.ylabel('Spending Score')\n",
        "plt.show()"
      ],
      "execution_count": 4,
      "outputs": [
        {
          "output_type": "stream",
          "text": [
            "findfont: Font family ['Arial'] not found. Falling back to DejaVu Sans.\n"
          ],
          "name": "stderr"
        },
        {
          "output_type": "display_data",
          "data": {
            "image/png": "[encoded data removed]",
            "text/plain": [
              "<Figure size 432x288 with 1 Axes>"
            ]
          },
          "metadata": {
            "tags": [],
            "needs_background": "light"
          }
        }
      ]
    },
    {
      "cell_type": "code",
      "metadata": {
        "id": "JU9XVlWczMMp",
        "outputId": "75136ebe-7a6c-4e7d-8f3f-4946253808a5",
        "colab": {
          "base_uri": "https://localhost:8080/"
        }
      },
      "source": [
        "X = df.iloc[:, [3, 4]].values\n",
        "X[0:10]"
      ],
      "execution_count": 5,
      "outputs": [
        {
          "output_type": "execute_result",
          "data": {
            "text/plain": [
              "array([[15, 39],\n",
              "       [15, 81],\n",
              "       [16,  6],\n",
              "       [16, 77],\n",
              "       [17, 40],\n",
              "       [17, 76],\n",
              "       [18,  6],\n",
              "       [18, 94],\n",
              "       [19,  3],\n",
              "       [19, 72]])"
            ]
          },
          "metadata": {
            "tags": []
          },
          "execution_count": 5
        }
      ]
    },
    {
      "cell_type": "markdown",
      "metadata": {
        "id": "nQl4RDJE0KX5"
      },
      "source": [
        "#Apply DBSCAN Algorithm"
      ]
    },
    {
      "cell_type": "code",
      "metadata": {
        "id": "gnSFI8Arzmwu"
      },
      "source": [
        "from sklearn.cluster import DBSCAN"
      ],
      "execution_count": 6,
      "outputs": []
    },
    {
      "cell_type": "code",
      "metadata": {
        "id": "ZaarXNoy0PqP"
      },
      "source": [
        "dbscan = DBSCAN(eps=3, min_samples=4)"
      ],
      "execution_count": 7,
      "outputs": []
    },
    {
      "cell_type": "markdown",
      "metadata": {
        "id": "j1SMEbFP0cti"
      },
      "source": [
        "# Fitting the model"
      ]
    },
    {
      "cell_type": "code",
      "metadata": {
        "id": "e94Hf_FP0ZV9",
        "outputId": "238d14d3-2981-47f9-f116-587b9bd862ae",
        "colab": {
          "base_uri": "https://localhost:8080/"
        }
      },
      "source": [
        "model = dbscan.fit(X)\n",
        "model"
      ],
      "execution_count": 8,
      "outputs": [
        {
          "output_type": "execute_result",
          "data": {
            "text/plain": [
              "DBSCAN(algorithm='auto', eps=3, leaf_size=30, metric='euclidean',\n",
              "       metric_params=None, min_samples=4, n_jobs=None, p=None)"
            ]
          },
          "metadata": {
            "tags": []
          },
          "execution_count": 8
        }
      ]
    },
    {
      "cell_type": "code",
      "metadata": {
        "id": "Y9IGWLxf0h8c",
        "outputId": "195a91cf-548e-4123-dd03-ada5ebd109f9",
        "colab": {
          "base_uri": "https://localhost:8080/"
        }
      },
      "source": [
        "labels = model.labels_\n",
        "labels"
      ],
      "execution_count": 9,
      "outputs": [
        {
          "output_type": "execute_result",
          "data": {
            "text/plain": [
              "array([-1, -1, -1, -1, -1, -1, -1, -1, -1, -1, -1, -1, -1, -1, -1, -1, -1,\n",
              "       -1, -1, -1, -1, -1, -1, -1, -1, -1, -1, -1, -1, -1, -1, -1, -1, -1,\n",
              "       -1, -1, -1, -1, -1, -1, -1, -1, -1, -1, -1, -1, -1, -1, -1, -1, -1,\n",
              "       -1, -1, -1, -1, -1,  0,  0,  0,  0, -1, -1,  0, -1,  0, -1,  0,  0,\n",
              "       -1,  0, -1, -1,  0, -1,  1,  1,  1,  1,  1,  1,  1,  1,  1,  1,  1,\n",
              "        1,  1,  1, -1,  2,  1,  2,  2,  2,  2,  2,  2,  2,  2,  2,  2,  2,\n",
              "        2,  2,  2,  2,  2,  2,  2,  2,  2,  2,  2,  2,  2,  2,  2,  3,  2,\n",
              "        3,  3, -1,  3, -1, -1,  4, -1, -1, -1,  4,  5,  4, -1,  4,  5, -1,\n",
              "        5,  4, -1,  4,  5, -1, -1,  6, -1, -1, -1,  7, -1,  6, -1,  6, -1,\n",
              "        7, -1,  6, -1,  7, -1,  7, -1, -1, -1, -1, -1, -1, -1, -1, -1, -1,\n",
              "        8, -1,  8, -1,  8, -1,  8, -1, -1, -1, -1, -1, -1, -1, -1, -1, -1,\n",
              "       -1, -1, -1, -1, -1, -1, -1, -1, -1, -1, -1, -1, -1])"
            ]
          },
          "metadata": {
            "tags": []
          },
          "execution_count": 9
        }
      ]
    },
    {
      "cell_type": "markdown",
      "metadata": {
        "id": "h5GuajsK0uab"
      },
      "source": [
        "* -ve points represents the outliers they do not fall under any cluster\n",
        "* others denote the cluster 0th, 1th, 2th,...8th cluster"
      ]
    },
    {
      "cell_type": "markdown",
      "metadata": {
        "id": "MzJptZzD4tqG"
      },
      "source": [
        "#Visualize results\n",
        "\n",
        "Seperate outliers from clusters data"
      ]
    },
    {
      "cell_type": "code",
      "metadata": {
        "id": "-GURkwqT4xaX"
      },
      "source": [
        "outliers_df = df[model.labels_== -1] #-1 stands for outlier\n",
        "clusters_df = df[model.labels_ !=-1]"
      ],
      "execution_count": 10,
      "outputs": []
    },
    {
      "cell_type": "code",
      "metadata": {
        "id": "EhUxrlKm4x0s",
        "outputId": "4bc879a2-859e-475d-b4e9-9304a8c0e65c",
        "colab": {
          "base_uri": "https://localhost:8080/"
        }
      },
      "source": [
        "outliers_df.info()"
      ],
      "execution_count": 11,
      "outputs": [
        {
          "output_type": "stream",
          "text": [
            "<class 'pandas.core.frame.DataFrame'>\n",
            "Int64Index: 121 entries, 0 to 199\n",
            "Data columns (total 5 columns):\n",
            " #   Column                  Non-Null Count  Dtype \n",
            "---  ------                  --------------  ----- \n",
            " 0   CustomerID              121 non-null    int64 \n",
            " 1   Genre                   121 non-null    object\n",
            " 2   Age                     121 non-null    int64 \n",
            " 3   Annual Income (k$)      121 non-null    int64 \n",
            " 4   Spending Score (1-100)  121 non-null    int64 \n",
            "dtypes: int64(4), object(1)\n",
            "memory usage: 5.7+ KB\n"
          ],
          "name": "stdout"
        }
      ]
    },
    {
      "cell_type": "code",
      "metadata": {
        "id": "G4KFeIPr5cze",
        "outputId": "3ca9b7c3-2b2d-498f-cf4d-ed85dff8da4b",
        "colab": {
          "base_uri": "https://localhost:8080/"
        }
      },
      "source": [
        "clusters_df.info()"
      ],
      "execution_count": 12,
      "outputs": [
        {
          "output_type": "stream",
          "text": [
            "<class 'pandas.core.frame.DataFrame'>\n",
            "Int64Index: 79 entries, 56 to 176\n",
            "Data columns (total 5 columns):\n",
            " #   Column                  Non-Null Count  Dtype \n",
            "---  ------                  --------------  ----- \n",
            " 0   CustomerID              79 non-null     int64 \n",
            " 1   Genre                   79 non-null     object\n",
            " 2   Age                     79 non-null     int64 \n",
            " 3   Annual Income (k$)      79 non-null     int64 \n",
            " 4   Spending Score (1-100)  79 non-null     int64 \n",
            "dtypes: int64(4), object(1)\n",
            "memory usage: 3.7+ KB\n"
          ],
          "name": "stdout"
        }
      ]
    },
    {
      "cell_type": "code",
      "metadata": {
        "id": "O6rUb-3p5SDI"
      },
      "source": [
        "colors = model.labels_\n",
        "colors_clusters = colors[colors != -1]\n",
        "colors_outliers = 'black' # for outliers set black color"
      ],
      "execution_count": 13,
      "outputs": []
    },
    {
      "cell_type": "markdown",
      "metadata": {
        "id": "ipMaE51v9ZZz"
      },
      "source": [
        "#core points, number of clusters"
      ]
    },
    {
      "cell_type": "code",
      "metadata": {
        "id": "IW4mrYK-7v4J",
        "outputId": "1153cc5d-61a6-4923-fc29-c5a5c1b76f81",
        "colab": {
          "base_uri": "https://localhost:8080/"
        }
      },
      "source": [
        "#Get the info about clusters\n",
        "clusters = Counter(model.labels_)\n",
        "print(clusters)\n",
        "print(df[model.labels_ == -1].head(10))\n",
        "print('Number of clusters = {}'.format(len(clusters)-1))"
      ],
      "execution_count": 14,
      "outputs": [
        {
          "output_type": "stream",
          "text": [
            "Counter({-1: 121, 2: 28, 1: 15, 0: 10, 4: 6, 3: 4, 5: 4, 6: 4, 7: 4, 8: 4})\n",
            "   CustomerID   Genre  Age  Annual Income (k$)  Spending Score (1-100)\n",
            "0           1    Male   19                  15                      39\n",
            "1           2    Male   21                  15                      81\n",
            "2           3  Female   20                  16                       6\n",
            "3           4  Female   23                  16                      77\n",
            "4           5  Female   31                  17                      40\n",
            "5           6  Female   22                  17                      76\n",
            "6           7  Female   35                  18                       6\n",
            "7           8  Female   23                  18                      94\n",
            "8           9    Male   64                  19                       3\n",
            "9          10  Female   30                  19                      72\n",
            "Number of clusters = 9\n"
          ],
          "name": "stdout"
        }
      ]
    },
    {
      "cell_type": "markdown",
      "metadata": {
        "id": "_ZMStZEW9w9z"
      },
      "source": [
        "#Plot clusters and outliers"
      ]
    },
    {
      "cell_type": "code",
      "metadata": {
        "id": "NOOsKq8M-nvd",
        "outputId": "9a708e31-012f-423e-a7c6-c2385cd9091f",
        "colab": {
          "base_uri": "https://localhost:8080/"
        }
      },
      "source": [
        "df.columns"
      ],
      "execution_count": 15,
      "outputs": [
        {
          "output_type": "execute_result",
          "data": {
            "text/plain": [
              "Index(['CustomerID', 'Genre', 'Age', 'Annual Income (k$)',\n",
              "       'Spending Score (1-100)'],\n",
              "      dtype='object')"
            ]
          },
          "metadata": {
            "tags": []
          },
          "execution_count": 15
        }
      ]
    },
    {
      "cell_type": "code",
      "metadata": {
        "id": "JJFsg-XD9pWE",
        "outputId": "c270a5bb-1569-42e9-9e98-e6e62d7e3807",
        "colab": {
          "base_uri": "https://localhost:8080/",
          "height": 400
        }
      },
      "source": [
        "fig = plt.figure()\n",
        "ax = fig.add_axes([.1,.1,1,1])\n",
        "\n",
        "ax.scatter(clusters_df['Annual Income (k$)'], clusters_df['Spending Score (1-100)'],\n",
        "           c = colors_clusters, edgecolors='black', s=50)\n",
        "ax.scatter(outliers_df['Annual Income (k$)'], outliers_df['Spending Score (1-100)'],\n",
        "           c = colors_outliers, edgecolors='black', s=50)\n",
        "\n",
        "ax.set_xlabel('Annual Income (k$)', family='Arial', fontsize=10)\n",
        "ax.set_ylabel('Spending Score (1-100)', family='Arial', fontsize=10) \n",
        "\n",
        "plt.title('Annual Income by DBSCAN algorithm', family='Arial', fontsize=12)\n",
        "\n",
        "plt.grid(which='major', color='#cccccc', alpha = 0.45)\n",
        "plt.show()"
      ],
      "execution_count": 16,
      "outputs": [
        {
          "output_type": "stream",
          "text": [
            "findfont: Font family ['Arial'] not found. Falling back to DejaVu Sans.\n",
            "findfont: Font family ['Arial'] not found. Falling back to DejaVu Sans.\n"
          ],
          "name": "stderr"
        },
        {
          "output_type": "display_data",
          "data": {
            "image/png": "[encoded data removed]",
            "text/plain": [
              "<Figure size 432x288 with 1 Axes>"
            ]
          },
          "metadata": {
            "tags": [],
            "needs_background": "light"
          }
        }
      ]
    },
    {
      "cell_type": "code",
      "metadata": {
        "id": "IDjsxBuX2V9Y",
        "outputId": "81ee2365-25be-4cdd-ba83-301ed6280bb5",
        "colab": {
          "base_uri": "https://localhost:8080/"
        }
      },
      "source": [
        "print(metrics.silhouette_score(X,labels))"
      ],
      "execution_count": 17,
      "outputs": [
        {
          "output_type": "stream",
          "text": [
            "-0.1908319132560097\n"
          ],
          "name": "stdout"
        }
      ]
    }
  ]
}
